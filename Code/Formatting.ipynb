{
 "cells": [
  {
   "cell_type": "markdown",
   "metadata": {
    "pycharm": {
     "name": "#%% md\n"
    }
   },
   "source": [
    "## Purpose\n",
    "\n",
    "This file is designed to construct our analysis sample. This notebook extracts CVD outcome data from the ICD records,\n",
    "then the first 10 years of exposure data and constructs rates per 100 for each individual per year and averages by the\n",
    "age of 1, 5 and 10. It also constructs fixed effects based on September-August year to control for seasonality of the \n",
    "disease better. Finally, the notebook mergers in variables needed from the UK Biobank itself, such as gender,\n",
    "fluid intelligence and education years."
   ]
  },
  {
   "cell_type": "code",
   "execution_count": 18,
   "metadata": {
    "pycharm": {
     "name": "#%%\n"
    }
   },
   "outputs": [
    {
     "name": "stdout",
     "output_type": "stream",
     "text": [
      "Setup complete: All paths valid. 15:13\n"
     ]
    }
   ],
   "source": [
    "from miscSupports import load_json, terminal_time, load_yaml, validate_path, sep_num, rebase_year\n",
    "from weightGIS.weighting.Calculate import assigned_exposure\n",
    "from ICDBioAssign.core import ICDBioAssign\n",
    "from csvObject import CsvObject, write_csv\n",
    "from IPython.display import clear_output\n",
    "\n",
    "from pyBlendFigures.Constructors import Prisma\n",
    "from pyBlendFigures import BlendFigure\n",
    "\n",
    "from datetime import datetime\n",
    "from pathlib import Path\n",
    "import os\n",
    "\n",
    "# This is the relative path to the env.yaml which contains the following paths\n",
    "env = load_yaml(Path(Path(os.path.abspath('')).parent, \"env.yaml\"))\n",
    "\n",
    "# Directory for common extracted files from the UK Biobank which may have use for multiple papers.\n",
    "# For this paper it contains\n",
    "#   ICD 9 and 10 extractions\n",
    "#   ID's of UK Biobank participants who have withdrawn from the study to be removed\n",
    "#   Gender of participants\n",
    "CONSTRUCTION_DIRECTORY = validate_path(env[\"CONSTRUCT_DIR\"])\n",
    "\n",
    "# Directory for this papers sensitive data which contains UK Biobank information\n",
    "PROJECT_DIRECTORY = validate_path(env[\"PROJECT_DIR\"])\n",
    "\n",
    "# Root Directory for the BIO-HGIS databases\n",
    "DATABASE_DIRECTORY = validate_path(env[\"BIO_HGIS_DIR\"])\n",
    "\n",
    "# External directory that contains ICD defintions\n",
    "EXTERNAL_DIRECTORY = validate_path(env[\"EXTERNAL_DIR\"])\n",
    "\n",
    "# Blend Figure directory\n",
    "BLEND_FIG_DIR = validate_path(env[\"BLEND_FIGURE_DIR\"])\n",
    "\n",
    "# BIO-HGIS extractions\n",
    "# These represent the column indexes for the linked BIO-HGIS UK Biobank locations of birth. It also contains the year\n",
    "# and month of birth which we use to extract from\n",
    "year_i = 1\n",
    "month_i = 2\n",
    "district_id = 8\n",
    "district_i = 9\n",
    "district_type_i = 10\n",
    "nation_i = 31\n",
    "\n",
    "# Initialise the PRISMA plot object of withdrawals and the blend figure constructor.\n",
    "# BLEND_PATH is the root to the blender.exe\n",
    "# BLEND_FIGURE_DIR is the root of the folder that contains the figures made by blender\n",
    "figure = BlendFigure(validate_path(env[\"BLEND_PATH\"]), BLEND_FIG_DIR)\n",
    "prisma_obj = Prisma(30)\n",
    "\n",
    "print(f\"Setup complete: All paths valid. {terminal_time()}\")"
   ]
  },
  {
   "cell_type": "markdown",
   "source": [
    "### Isolating Cardiovascular disease\n",
    "\n",
    "A CVD definition has already been constructed and well-defined by working alongside clinicians by\n",
    "[Carter et al (2019)][carter] which we extend to also include rheumatism as our control. Here we use the definitions \n",
    "within the *External Files* directory to construct phenotypic values via ICDBioAssign."
   ],
   "metadata": {
    "collapsed": false,
    "pycharm": {
     "name": "#%% md\n"
    }
   }
  },
  {
   "cell_type": "code",
   "execution_count": null,
   "outputs": [],
   "source": [
    "icd = ICDBioAssign(Path(EXTERNAL_DIRECTORY, \"Definitions.csv\"), PROJECT_DIRECTORY, \"CVD_Outcomes\")\n",
    "\n",
    "icd.set_definitions(Path(CONSTRUCTION_DIRECTORY, \"ICD10.csv\"))\n",
    "icd.set_definitions(Path(CONSTRUCTION_DIRECTORY, \"ICD9.csv\"), icd_10=False)\n",
    "icd.set_definitions(Path(CONSTRUCTION_DIRECTORY, \"CoD.csv\"))\n",
    "icd.compile_and_write()\n",
    "clear_output(True)\n",
    "print(f\"Constructed CVD Phenotypic values {terminal_time()}\")"
   ],
   "metadata": {
    "collapsed": false,
    "pycharm": {
     "name": "#%%\n"
    }
   }
  },
  {
   "cell_type": "markdown",
   "source": [
    "## Load ID data\n",
    "We load the regionally assigned individuals based on the 1951 census locations from vision of britain"
   ],
   "metadata": {
    "collapsed": false,
    "pycharm": {
     "name": "#%% md\n"
    }
   }
  },
  {
   "cell_type": "code",
   "execution_count": 19,
   "outputs": [
    {
     "name": "stdout",
     "output_type": "stream",
     "text": [
      "Loaded weighted data into memory 15:13\n"
     ]
    }
   ],
   "source": [
    "id_data = CsvObject(Path(DATABASE_DIRECTORY, \"1951_weighted_birth_locations.csv\"))\n",
    "print(f\"Loaded weighted data into memory {terminal_time()}\")"
   ],
   "metadata": {
    "collapsed": false,
    "pycharm": {
     "name": "#%%\n"
    }
   }
  },
  {
   "cell_type": "markdown",
   "source": [
    "### Remove withdrawn Id's\n",
    "\n",
    "The Uk Biobank frequently removes individuals whom have withdrawn consent, here we remove individuals whom are not\n",
    "to be included before starting formally one the analysis and prisma plot. "
   ],
   "metadata": {
    "collapsed": false,
    "pycharm": {
     "name": "#%% md\n"
    }
   }
  },
  {
   "cell_type": "code",
   "execution_count": 20,
   "outputs": [
    {
     "name": "stdout",
     "output_type": "stream",
     "text": [
      "Original 502507 has been successfully reduced to 502488\n",
      "Removed 19\n"
     ]
    }
   ],
   "source": [
    "removal_ids = CsvObject(Path(CONSTRUCTION_DIRECTORY, \"UKB_Withdrawal_IDs.csv\"), set_columns=True)\n",
    "app_data = [row for row in id_data.row_data if row[0] not in removal_ids[0]]\n",
    "\n",
    "print(f\"Original {id_data.column_length} has been successfully reduced to {len(app_data)}\\n\"\n",
    "      f\"Removed {id_data.column_length - len(app_data)}\")"
   ],
   "metadata": {
    "collapsed": false,
    "pycharm": {
     "name": "#%%\n"
    }
   }
  },
  {
   "cell_type": "markdown",
   "source": [
    "### Clean our sample\n",
    "\n",
    "There are lots of individuals whom are within the sample that we cannot use for our analysis. We need to be clear in the\n",
    "reasoning of the removal of these individuals from the sample, to make it clear that we are not purposely biasing our \n",
    "results through such exclusions."
   ],
   "metadata": {
    "collapsed": false,
    "pycharm": {
     "name": "#%% md\n"
    }
   }
  },
  {
   "cell_type": "code",
   "execution_count": 21,
   "outputs": [
    {
     "name": "stdout",
     "output_type": "stream",
     "text": [
      "UK Biobank Population\n",
      "\n",
      "N = 502 488\n",
      "------------------------------\n",
      "Born in Scotland\n",
      "\n",
      "N = 39 488\n",
      "------------------------------\n",
      "UK Biobank Population not in\n",
      "Scotland\n",
      "\n",
      "N = 463 000\n",
      "------------------------------\n",
      "No or invalid birth\n",
      "coordinates\n",
      "\n",
      "N = 57 799\n",
      "------------------------------\n",
      "UK Biobank Population that can\n",
      "be geolocated at birth\n",
      "\n",
      "N = 405 201\n",
      "------------------------------\n",
      "Born before June 1946\n",
      "\n",
      "N = 122 177\n",
      "------------------------------\n",
      "UK Biobank Population post\n",
      "introduction of penicillin\n",
      "\n",
      "N = 283 024\n",
      "------------------------------\n"
     ]
    }
   ],
   "source": [
    "# Set base number of observations\n",
    "prisma_obj.add_element(f\"UK Biobank Population\\n\\nN = {sep_num(len(app_data))}\", 0, 0)\n",
    "\n",
    "# We have no data for scotland, so remove them\n",
    "ids_england_wales = [row for row in app_data if row[nation_i] != \"SCOTLAND\"]\n",
    "prisma_obj.add_element(f\"Born in Scotland\\n\\nN = {sep_num(len(app_data) - len(ids_england_wales))}\", 1, 1)\n",
    "prisma_obj.add_element(f\"UK Biobank Population not in Scotland\\n\\nN = {sep_num(len(ids_england_wales))}\", 0, 2)\n",
    "\n",
    "# Individuals with no birth location cannot be used\n",
    "ids_birth_location = [row for row in ids_england_wales if row[district_i] != \"No or invalid coordinates\"]\n",
    "prisma_obj.add_element(f\"No or invalid birth coordinates\\n\\nN = {sep_num(len(ids_england_wales) - len(ids_birth_location))}\", 1, 3)\n",
    "prisma_obj.add_element(f\"UK Biobank Population that can be geolocated at birth\\n\\nN = {sep_num(len(ids_birth_location))}\", 0, 4)\n",
    "\n",
    "# Construct a valid list of dates based on those born after june 1946; the introduction of penicillin\n",
    "dates_list = [datetime(int(row[year_i]), int(row[month_i]), 1) for row in ids_birth_location]\n",
    "valid_dates = [True if date > datetime(1946, 6, 1) else False for date in dates_list]\n",
    "\n",
    "# We only include those after 1946\n",
    "ids_sample_data = [row for row, valid in zip(ids_birth_location, valid_dates) if valid]\n",
    "prisma_obj.add_element(f\"Born before June 1946\\n\\nN = {sep_num(len(ids_birth_location) - len(ids_sample_data))}\", 1, 5)\n",
    "prisma_obj.add_element(f\"UK Biobank Population post introduction of penicillin\\n\\nN = {sep_num(len(ids_sample_data))}\", 0, 6)\n",
    "\n",
    "# Create a lookup if ID: regional values for those whom pass the QC\n",
    "ids_search_dict = {row[0]: row for row in ids_sample_data}"
   ],
   "metadata": {
    "collapsed": false,
    "pycharm": {
     "name": "#%% \n"
    }
   }
  },
  {
   "cell_type": "markdown",
   "metadata": {
    "pycharm": {
     "is_executing": false,
     "name": "#%% md\n"
    }
   },
   "source": [
    "### Non Calender fixed effects\n",
    "\n",
    "Given our data is looking at seasons of disease, which traditionally start in autumn it may be more logical to control\n",
    "for time via fixed effects of the seasons of disease as apposed to calender dates. These alternative fixed effects are\n",
    "September to August, rather than  January-December, in line with [Lamagni et al 2018][lam].\n",
    "\n",
    "[lam]: https://www.thelancet.com/journals/laninf/article/PIIS1473-3099(17)30693-X/fulltext\n"
   ]
  },
  {
   "cell_type": "code",
   "execution_count": 22,
   "outputs": [
    {
     "name": "stdout",
     "output_type": "stream",
     "text": [
      "Construct September August Fixed effects 15:13\n"
     ]
    }
   ],
   "source": [
    "sep_august = [datetime(int(1930 + i), 9, 1) for i in range(45)]\n",
    "sep_august_list = {row[0]: str(rebase_year(datetime(int(row[year_i]), int(row[month_i]), 1), sep_august))\n",
    "                   for row in ids_sample_data}\n",
    "\n",
    "print(f\"Construct September August Fixed effects {terminal_time()}\")"
   ],
   "metadata": {
    "collapsed": false,
    "pycharm": {
     "name": "#%%\n"
    }
   }
  },
  {
   "cell_type": "markdown",
   "source": [
    "### Compute rates\n",
    "\n",
    "Our phenotype exposure of interested is Scarlet Fever, which is currently just a count data type that has been \n",
    "aggregated from weeks into years. We want to calculate the risk of exposure, which means we need to account for the \n",
    "population of the district the individual was born in. This calculates the exposure at a given age between 1-10 of \n",
    "scarlet fever. \n",
    "\n",
    "To do this, we isolate all the unique birth days per district, then extract the exposures at each unique birth date \n",
    "before assigning them to individuals."
   ],
   "metadata": {
    "collapsed": false,
    "pycharm": {
     "name": "#%% md\n"
    }
   }
  },
  {
   "cell_type": "code",
   "execution_count": 23,
   "outputs": [
    {
     "name": "stdout",
     "output_type": "stream",
     "text": [
      "There are 111783 Unique Place-Date of birth values to exploit\n"
     ]
    }
   ],
   "source": [
    "id_dates_birth = {row[0]: f\"{row[year_i]}__{row[month_i]}__{row[district_id]}__{row[district_i]}{row[district_type_i]}\"\n",
    "                  for row in ids_sample_data}\n",
    "\n",
    "\n",
    "unique_values = sorted(list(set([value for value in id_dates_birth.values()])))\n",
    "print(f\"There are {len(unique_values)} Unique Place-Date of birth values to exploit\")"
   ],
   "metadata": {
    "collapsed": false,
    "pycharm": {
     "name": "#%%\n"
    }
   }
  },
  {
   "cell_type": "code",
   "execution_count": 24,
   "outputs": [
    {
     "name": "stdout",
     "output_type": "stream",
     "text": [
      "Loaded BIO-HGIS Database 15:13\n"
     ]
    }
   ],
   "source": [
    "bio_gis_data = load_json(Path(DATABASE_DIRECTORY, \"Json\", \"Wave1Weighted_Districts.txt\"))\n",
    "print(f\"Loaded BIO-HGIS Database {terminal_time()}\")"
   ],
   "metadata": {
    "collapsed": false,
    "pycharm": {
     "name": "#%%\n"
    }
   }
  },
  {
   "cell_type": "code",
   "execution_count": 25,
   "outputs": [
    {
     "name": "stdout",
     "output_type": "stream",
     "text": [
      "Constructed Exposures 15:14\n"
     ]
    }
   ],
   "source": [
    "phenotypes = [\"Scarlet_Fever\"]\n",
    "link_dict = assigned_exposure(unique_values, phenotypes, bio_gis_data, 10, [1, 5, 10])\n",
    "clear_output(True)\n",
    "print(f\"Constructed Exposures {terminal_time()}\")"
   ],
   "metadata": {
    "collapsed": false,
    "pycharm": {
     "name": "#%%\n"
    }
   }
  },
  {
   "cell_type": "markdown",
   "source": [
    "### Load supporting \n",
    "\n",
    "Here we load additional phenotypic data directory from the UK Biobank so we can assign it"
   ],
   "metadata": {
    "collapsed": false,
    "pycharm": {
     "name": "#%% md\n"
    }
   }
  },
  {
   "cell_type": "code",
   "execution_count": 26,
   "outputs": [
    {
     "name": "stdout",
     "output_type": "stream",
     "text": [
      "Set supporting 15:14\n"
     ]
    }
   ],
   "source": [
    "cvd_file = CsvObject(Path(PROJECT_DIRECTORY, \"CVD_Outcomes.csv\"))\n",
    "other_phenotypes = CsvObject(Path(PROJECT_DIRECTORY, \"Phenotypes.csv\"))\n",
    "gender = CsvObject(Path(CONSTRUCTION_DIRECTORY, \"Gender.csv\"))\n",
    "\n",
    "gender_lookup = {row[0]: row[1] for row in gender.row_data}\n",
    "cvd_file_lookup = {row[0]: row[1:] for row in cvd_file.row_data}\n",
    "other_phenotypes_lookup = {row[0]: row[1:] for row in other_phenotypes.row_data}\n",
    "print(f\"Set supporting {terminal_time()}\")"
   ],
   "metadata": {
    "collapsed": false,
    "pycharm": {
     "name": "#%%\n"
    }
   }
  },
  {
   "cell_type": "markdown",
   "source": [
    "### Remove those without 10 years of exposures\n",
    "\n",
    "We will be looking at the average exposure across 10 years, but to ensure this is comparable we need to only include\n",
    "those with exposures over 10 years"
   ],
   "metadata": {
    "collapsed": false,
    "pycharm": {
     "name": "#%% md\n"
    }
   }
  },
  {
   "cell_type": "code",
   "execution_count": 27,
   "outputs": [
    {
     "name": "stdout",
     "output_type": "stream",
     "text": [
      "Lacks 10 years of exposure\n",
      "data or born after 1963\n",
      "\n",
      "N = 41 339\n",
      "------------------------------\n",
      "UK Biobank Population Analysis\n",
      "Sample\n",
      "\n",
      "N = 241 685\n",
      "------------------------------\n",
      "Headers length of 41 equals Row length of 41\n"
     ]
    }
   ],
   "source": [
    "output_row = []\n",
    "\n",
    "for ids, place in id_dates_birth.items():\n",
    "    \n",
    "    exposure_values = link_dict[place]\n",
    "    \n",
    "    if \"NA\" not in exposure_values:    \n",
    "        output_row.append([ids_search_dict[ids][h] for h in [0, year_i, month_i, district_id, district_i, district_type_i]] +\n",
    "                          [sep_august_list[ids]] +\n",
    "                          [gender_lookup[ids]] +\n",
    "                          other_phenotypes_lookup[ids] +\n",
    "                          cvd_file_lookup[ids] +\n",
    "                          exposure_values)\n",
    "\n",
    "# We only include those whom we have 10 years of exposure data.\n",
    "prisma_obj.add_element(f\"Lacks 10 years of exposure data or born after 1963\\n\\nN = {sep_num(len(ids_sample_data) - len(output_row))}\", 1, 7)\n",
    "prisma_obj.add_element(f\"UK Biobank Population Analysis Sample\\n\\nN = {sep_num(len(output_row))}\", 0, 8)\n",
    "\n",
    "# Write out PRISMA dict for pyBlendFigures\n",
    "prisma_obj.write_prisma_config(prisma_obj.prisma_links(), BLEND_FIG_DIR, \"Prisma\")\n",
    "\n",
    "# Construct headers and ensure that they are of equal length\n",
    "headers = [id_data.headers[i] for i in [0, year_i, month_i, district_id, district_i, district_type_i]] + \\\n",
    "          [\"SepYoB\", \"Gender\"] + other_phenotypes.headers[1:] + cvd_file.headers[1:] +\\\n",
    "          [f\"SF_{i}\" for i in range(1, 11)] + [f\"SFA_{i}\" for i in [1, 5, 10]]\n",
    "\n",
    "# Check the header length is equal to the number of rows\n",
    "if len(headers) == len(output_row[0]):\n",
    "    print(f\"Headers length of {len(headers)} equals Row length of {len(output_row[0])}\")\n",
    "else:\n",
    "    print(f\"Headers length of {len(headers)} does not equals Row length of {len(output_row[0])}\")"
   ],
   "metadata": {
    "collapsed": false,
    "pycharm": {
     "name": "#%%\n"
    }
   }
  },
  {
   "cell_type": "code",
   "execution_count": 28,
   "outputs": [
    {
     "name": "stdout",
     "output_type": "stream",
     "text": [
      "Written to Analysis sample to disk 15:20\n"
     ]
    }
   ],
   "source": [
    "write_csv(PROJECT_DIRECTORY, \"ScarletLong\", headers, output_row)\n",
    "print(f\"Written to Analysis sample to disk {terminal_time()}\")"
   ],
   "metadata": {
    "collapsed": false,
    "pycharm": {
     "name": "#%%\n"
    }
   }
  }
 ],
 "metadata": {
  "kernelspec": {
   "display_name": "Python 3",
   "language": "python",
   "name": "python3"
  },
  "language_info": {
   "codemirror_mode": {
    "name": "ipython",
    "version": 3
   },
   "file_extension": ".py",
   "mimetype": "text/x-python",
   "name": "python",
   "nbconvert_exporter": "python",
   "pygments_lexer": "ipython3",
   "version": "3.7.3"
  }
 },
 "nbformat": 4,
 "nbformat_minor": 1
}